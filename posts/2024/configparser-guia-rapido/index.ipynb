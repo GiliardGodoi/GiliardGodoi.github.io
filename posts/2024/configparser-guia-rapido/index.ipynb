{
  "cells": [
    {
      "cell_type": "raw",
      "metadata": {
        "id": "knnwl5QTXu9O",
        "vscode": {
          "languageId": "raw"
        }
      },
      "source": [
        "---\n",
        "title: 'Guia rápido para a biblioteca `configparser`'\n",
        "description: 'Manipulação de arquivos de configuração do tipo `config.ini` e `config.cfg`'\n",
        "date: 2024-05-26\n",
        "author: 'Giliard Godoi'\n",
        "categories: [utils]\n",
        "---"
      ]
    },
    {
      "cell_type": "markdown",
      "metadata": {
        "id": "AOkZuh6uYcKc"
      },
      "source": [
        "Existem várias especificações para arquivos de configuração ou parametrização, tais como os arquivos `ini`, `yaml`, e `toml`.\n",
        "Cada uma dessas especificações define uma forma de organizar as informações e representar tipos comuns das linguagens de programação como inteiros (`int`), números de ponto flutuante (`float`), valores booleanos (`bool`), strings, e até mesmo estruturas de dados como listas e dicionários.\n",
        "\n",
        "Nessa postagem vamos conhecer um pouco sobre a biblioteca padrão da linguagem Python para manipular arquivos `ini`, a biblioteca `configparser`. \n",
        "\n",
        "Essa especificação foi inicialmente projetadas para sistemas do [Microsoft Windows](https://en.wikipedia.org/wiki/INI_file), porém, com o tempo, passou a ser adotada por outras empresas, aparecendo inclusive em softwares open source sob a extensão `cfg`.\n",
        "\n",
        "\n",
        "Vamos cobrir algumas funcionalidades básicas dessa biblioteca e, para um entendimento mais detalhado, o leito interessado poderá consultar a documentação oficial da biblioteca[`configparser`](https://docs.python.org/3/library/configparser.html)."
      ]
    },
    {
      "cell_type": "markdown",
      "metadata": {
        "id": "IyOID-vyTWtH"
      },
      "source": [
        "# Definição do arquivo\n",
        "\n",
        "O arquivo de configuração `ini` é organizado por seções, representada por uma palavra entre colchetes. Todo arquivo possui uma seção *default* que vem no início do arquivo. Os parâmetros são definidos sob o esquema chave e valor em cada uma das seções.\n",
        "\n",
        "\n",
        "As principais características desse formato são:\n",
        "\n",
        "1. Podem ser utilizados como delimitadores de valor os caracteres '`=`' ou '`:`'.\n",
        "2. Comentários são precedidos pelo caracter '`#`'\n",
        "3. Todos os valores são convertidos para `string`, e por padrão não existe a conversão dos valores para tipos básicos da linguagem.\n",
        "4. Porém, existem alguns métodos especiais para converter os valores para determinado tipo;\n",
        "5. Ao realizar o parse de um arquivo, a estrutura de dados retornados se assemelha a um dicionário do Python.\n",
        "\n",
        "\n",
        "A seguir, é mostrado um exemplo de como um arquivo de configuração é definido\n"
      ]
    },
    {
      "cell_type": "code",
      "execution_count": 1,
      "metadata": {},
      "outputs": [],
      "source": [
        "configuration_string = '''\n",
        "[DEFAULT]\n",
        "name  = Giliard Godoi\n",
        "email = ggodoi@email.com\n",
        "local = Brasil\n",
        "secret_agent = True\n",
        "year = 2020\n",
        "\n",
        "# Isso é um comentário\n",
        "\n",
        "[education]  # Define-se uma nova seção com colchetes\n",
        "school = Federal University of Technology - Paraná\n",
        "major  = Software Development\n",
        "year   = 2018\n",
        "\n",
        "# This is a list of skills\n",
        "[skills]\n",
        "programing :\n",
        "    Python\n",
        "    JavaScript\n",
        "    C\n",
        "    C++\n",
        "\n",
        "language :\n",
        "    Portuguese\n",
        "    English\n",
        "'''"
      ]
    },
    {
      "cell_type": "markdown",
      "metadata": {},
      "source": [
        "Para manipular esse arquivo, vamos fazer a importação da biblioteca."
      ]
    },
    {
      "cell_type": "code",
      "execution_count": 2,
      "metadata": {
        "id": "f-CiRglRYbXI"
      },
      "outputs": [],
      "source": [
        "import configparser"
      ]
    },
    {
      "cell_type": "markdown",
      "metadata": {},
      "source": [
        "Depois instanciamos um objeto do tipo `ConfigParser`, porém ele ainda está vazio, isto é, sem campos ou valores definidos."
      ]
    },
    {
      "cell_type": "code",
      "execution_count": 3,
      "metadata": {
        "id": "JK1wWphlXkgx"
      },
      "outputs": [
        {
          "data": {
            "text/plain": [
              "configparser.ConfigParser"
            ]
          },
          "execution_count": 3,
          "metadata": {},
          "output_type": "execute_result"
        }
      ],
      "source": [
        "config = configparser.ConfigParser()\n",
        "\n",
        "type(config)"
      ]
    },
    {
      "cell_type": "markdown",
      "metadata": {},
      "source": [
        "A partir do objeto `config`, podemos realizar o parse de uma string de configuração da seguinte maneira, populando as suas seções e valores."
      ]
    },
    {
      "cell_type": "code",
      "execution_count": 4,
      "metadata": {
        "colab": {
          "base_uri": "https://localhost:8080/",
          "height": 156
        },
        "id": "qTYJ4jsyXary",
        "outputId": "6c3c03f4-2f4b-4c21-8937-376dcbcc903e"
      },
      "outputs": [
        {
          "data": {
            "text/plain": [
              "configparser.ConfigParser"
            ]
          },
          "execution_count": 4,
          "metadata": {},
          "output_type": "execute_result"
        }
      ],
      "source": [
        "\n",
        "config.read_string(configuration_string)\n",
        "\n",
        "type(config)"
      ]
    },
    {
      "cell_type": "markdown",
      "metadata": {},
      "source": [
        "Cada seção é acessível pelo seu nome, de forma semelhante a um dicionário."
      ]
    },
    {
      "cell_type": "code",
      "execution_count": 5,
      "metadata": {
        "colab": {
          "base_uri": "https://localhost:8080/"
        },
        "id": "qqO7yoNFXoNM",
        "outputId": "c060c31c-8ae9-4d08-dddb-2252972517ab"
      },
      "outputs": [
        {
          "data": {
            "text/plain": [
              "<Section: DEFAULT>"
            ]
          },
          "execution_count": 5,
          "metadata": {},
          "output_type": "execute_result"
        }
      ],
      "source": [
        "# O que é uma seção?\n",
        "config['DEFAULT']"
      ]
    },
    {
      "cell_type": "markdown",
      "metadata": {},
      "source": [
        "O método `sections` retorna quais as seções definidas pelo arquivo. No nosso exemplo temos as seções `education` e `skills`. Note que a seção `DEFAULT` não é retornada."
      ]
    },
    {
      "cell_type": "code",
      "execution_count": 6,
      "metadata": {
        "colab": {
          "base_uri": "https://localhost:8080/"
        },
        "id": "-CrKQ2ggZBnF",
        "outputId": "f6551677-d949-4541-afd8-bd3a35886e52"
      },
      "outputs": [
        {
          "data": {
            "text/plain": [
              "['education', 'skills']"
            ]
          },
          "execution_count": 6,
          "metadata": {},
          "output_type": "execute_result"
        }
      ],
      "source": [
        "# Como saber quais são as demais seções?\n",
        "config.sections()"
      ]
    },
    {
      "cell_type": "markdown",
      "metadata": {},
      "source": [
        "Também é possível verificar se uma seção existe em um arquivo de configuração pelo método `has_section` ou pelo o operator `in`."
      ]
    },
    {
      "cell_type": "code",
      "execution_count": 7,
      "metadata": {
        "colab": {
          "base_uri": "https://localhost:8080/"
        },
        "id": "BPaYutwMdsOE",
        "outputId": "46b9215e-9167-4118-e78c-ddb106b009cf"
      },
      "outputs": [
        {
          "data": {
            "text/plain": [
              "True"
            ]
          },
          "execution_count": 7,
          "metadata": {},
          "output_type": "execute_result"
        }
      ],
      "source": [
        "# Como verificar se uma seção existe dentro de config?\n",
        "('education' in config) or config.has_section('education')"
      ]
    },
    {
      "cell_type": "markdown",
      "metadata": {},
      "source": [
        "Para conhecer quais os parâmetros de uma seção, podemos utilizar o método `options` passando o nome de uma seção."
      ]
    },
    {
      "cell_type": "code",
      "execution_count": 8,
      "metadata": {},
      "outputs": [
        {
          "data": {
            "text/plain": [
              "['school', 'major', 'year', 'name', 'email', 'local', 'secret_agent']"
            ]
          },
          "execution_count": 8,
          "metadata": {},
          "output_type": "execute_result"
        }
      ],
      "source": [
        "config.options('education')"
      ]
    },
    {
      "cell_type": "markdown",
      "metadata": {},
      "source": [
        "Mas se utilizarmos esse método para tentar descobrir as opções da seção DEFAULT nós obtemos um erro"
      ]
    },
    {
      "cell_type": "code",
      "execution_count": 9,
      "metadata": {},
      "outputs": [
        {
          "name": "stdout",
          "output_type": "stream",
          "text": [
            "<class 'configparser.NoSectionError'> No section: 'DEFAULT'\n"
          ]
        }
      ],
      "source": [
        "try:\n",
        "    config.options('DEFAULT')\n",
        "except Exception as e:\n",
        "    print(type(e), e)"
      ]
    },
    {
      "cell_type": "markdown",
      "metadata": {},
      "source": [
        "Isso porque a seção default serve como um default. Isto é, se procurarmos uma opção em uma das seções e essa opção não estiver definida para aquela seção, o valor retornado será aquele presente na seção DEFAULT. Veja o exemplo a seguir:"
      ]
    },
    {
      "cell_type": "code",
      "execution_count": 10,
      "metadata": {},
      "outputs": [
        {
          "name": "stdout",
          "output_type": "stream",
          "text": [
            "2018\n",
            "2020\n"
          ]
        }
      ],
      "source": [
        "print(\n",
        "    config.get('education', 'year'),\n",
        ")\n",
        "print(\n",
        "    config.get('skills', 'year') # não foi definido a opção year nesta seção\n",
        ")"
      ]
    },
    {
      "cell_type": "markdown",
      "metadata": {},
      "source": [
        "Porém, o método `defaults` retorna um dicionário contendo os parâmetros e respectivos valores presentes nessa seção."
      ]
    },
    {
      "cell_type": "code",
      "execution_count": 11,
      "metadata": {},
      "outputs": [
        {
          "data": {
            "text/plain": [
              "{'name': 'Giliard Godoi',\n",
              " 'email': 'ggodoi@email.com',\n",
              " 'local': 'Brasil',\n",
              " 'secret_agent': 'True',\n",
              " 'year': '2020'}"
            ]
          },
          "execution_count": 11,
          "metadata": {},
          "output_type": "execute_result"
        }
      ],
      "source": [
        "config.defaults()"
      ]
    },
    {
      "cell_type": "markdown",
      "metadata": {},
      "source": [
        "É possível verificar ser uma opção foi definida em uma seção através do método `has_option`."
      ]
    },
    {
      "cell_type": "code",
      "execution_count": 12,
      "metadata": {
        "colab": {
          "base_uri": "https://localhost:8080/"
        },
        "id": "OmcT7aaejNz3",
        "outputId": "341c8cda-0ad9-436c-e672-01d7799228ec"
      },
      "outputs": [
        {
          "data": {
            "text/plain": [
              "True"
            ]
          },
          "execution_count": 12,
          "metadata": {},
          "output_type": "execute_result"
        }
      ],
      "source": [
        "# Como verificar se existe uma opção (chave) dentro de uma seção?\n",
        "config.has_option(section='education', option='year')"
      ]
    },
    {
      "cell_type": "markdown",
      "metadata": {},
      "source": [
        "Nesse método, se o valor correspondente a section for passado como `None` ou uma string vazia, o valor da opção definida na seção DEFAULT é retornado."
      ]
    },
    {
      "cell_type": "code",
      "execution_count": 13,
      "metadata": {
        "colab": {
          "base_uri": "https://localhost:8080/"
        },
        "id": "n6CKFKy7jT2S",
        "outputId": "6b570665-55ad-4947-97f4-d9fe0282f671"
      },
      "outputs": [
        {
          "data": {
            "text/plain": [
              "False"
            ]
          },
          "execution_count": 13,
          "metadata": {},
          "output_type": "execute_result"
        }
      ],
      "source": [
        "# Como verificar se existe uma opção para a seção default?\n",
        "config.has_option(section=None, option='company')"
      ]
    },
    {
      "cell_type": "markdown",
      "metadata": {},
      "source": [
        "Os valores das opções (ou parâmetros) também estão acessíveis por indexação."
      ]
    },
    {
      "cell_type": "code",
      "execution_count": 14,
      "metadata": {
        "colab": {
          "base_uri": "https://localhost:8080/",
          "height": 35
        },
        "id": "gy1UQrTdXsrO",
        "outputId": "5eba3fce-19b0-4b7d-d824-8dadf795b616"
      },
      "outputs": [
        {
          "data": {
            "text/plain": [
              "'Giliard Godoi'"
            ]
          },
          "execution_count": 14,
          "metadata": {},
          "output_type": "execute_result"
        }
      ],
      "source": [
        "# Como acessar um valor na seção default?\n",
        "config['DEFAULT']['name']"
      ]
    },
    {
      "cell_type": "code",
      "execution_count": 15,
      "metadata": {
        "colab": {
          "base_uri": "https://localhost:8080/",
          "height": 35
        },
        "id": "MX4kdNnoX47N",
        "outputId": "d8c10391-bd44-479c-d1b9-8041bac190c1"
      },
      "outputs": [
        {
          "data": {
            "text/plain": [
              "'Federal University of Technology - Paraná'"
            ]
          },
          "execution_count": 15,
          "metadata": {},
          "output_type": "execute_result"
        }
      ],
      "source": [
        "# Como acessar um valor em uma outra seção?\n",
        "config['education']['school']"
      ]
    },
    {
      "cell_type": "markdown",
      "metadata": {},
      "source": [
        "Também é definio o método `get` para acessar o valor definido nos parâmetros. Como parâmetros esses métodos recebem o nome da seção e da opção que queremos consultar."
      ]
    },
    {
      "cell_type": "code",
      "execution_count": 16,
      "metadata": {
        "colab": {
          "base_uri": "https://localhost:8080/",
          "height": 35
        },
        "id": "fWfPIXMJbc7n",
        "outputId": "d1101fb4-3b41-4f2f-ac1d-90c7caf6b6a3"
      },
      "outputs": [
        {
          "data": {
            "text/plain": [
              "'Federal University of Technology - Paraná'"
            ]
          },
          "execution_count": 16,
          "metadata": {},
          "output_type": "execute_result"
        }
      ],
      "source": [
        "# ou então, utilizar o método get\n",
        "config.get(section='education', option='school')"
      ]
    },
    {
      "cell_type": "markdown",
      "metadata": {},
      "source": [
        "É importante dizer que a operação de parser do arquivo de configuração `.ini` não realiza a conversão dos dados para tipos primitivos da linguagem. Assim, todos os valores são retornados como string."
      ]
    },
    {
      "cell_type": "code",
      "execution_count": 17,
      "metadata": {
        "colab": {
          "base_uri": "https://localhost:8080/"
        },
        "id": "z2aGa9xlYM5t",
        "outputId": "bf72c2b3-36c2-4a46-f729-9fc95fa7d1ae"
      },
      "outputs": [
        {
          "data": {
            "text/plain": [
              "str"
            ]
          },
          "execution_count": 17,
          "metadata": {},
          "output_type": "execute_result"
        }
      ],
      "source": [
        "# Qual é o tipo de dado retornado por padrão?\n",
        "type(\n",
        "    config['education']['year']\n",
        ")"
      ]
    },
    {
      "cell_type": "markdown",
      "metadata": {},
      "source": [
        "A lista de linguagens de programação por exemplo, são retornadas como uma string e cada valor é separado pelo caracter de quebra de linha `\\n`."
      ]
    },
    {
      "cell_type": "code",
      "execution_count": 18,
      "metadata": {
        "colab": {
          "base_uri": "https://localhost:8080/",
          "height": 35
        },
        "id": "ZiHMU-22YWgV",
        "outputId": "f4f3e47a-87b3-4384-ef91-438b53617db7"
      },
      "outputs": [
        {
          "data": {
            "text/plain": [
              "'\\nPython\\nJavaScript\\nC\\nC++'"
            ]
          },
          "execution_count": 18,
          "metadata": {},
          "output_type": "execute_result"
        }
      ],
      "source": [
        "# Isso serve também para listas?\n",
        "config['skills']['programing']"
      ]
    },
    {
      "cell_type": "markdown",
      "metadata": {},
      "source": [
        "Para retornar esses valores como uma lista de strings, podemos utilizar o método `split`, conforme o exemplo a seguir."
      ]
    },
    {
      "cell_type": "code",
      "execution_count": 19,
      "metadata": {
        "colab": {
          "base_uri": "https://localhost:8080/"
        },
        "id": "FqgK_1gPYzER",
        "outputId": "4ce7a4b5-0e2e-4fce-ed8f-d80b85a431bd"
      },
      "outputs": [
        {
          "data": {
            "text/plain": [
              "['Python', 'JavaScript', 'C', 'C++']"
            ]
          },
          "execution_count": 19,
          "metadata": {},
          "output_type": "execute_result"
        }
      ],
      "source": [
        "# Como converter os valores para listas?\n",
        "config['skills']['programing'].split()"
      ]
    },
    {
      "cell_type": "markdown",
      "metadata": {
        "id": "L3M5IC_hguBW"
      },
      "source": [
        "Existem alguns métodos derivados de `get` que realizam a conversão para tipos primitivos, sendo eles:\n",
        "- getint\n",
        "- getboolean\n",
        "- getfloat"
      ]
    },
    {
      "cell_type": "code",
      "execution_count": 20,
      "metadata": {
        "colab": {
          "base_uri": "https://localhost:8080/"
        },
        "id": "tgBDvcxbbng6",
        "outputId": "eba5ca50-853e-4b0a-e9c6-5e84083b1db2"
      },
      "outputs": [
        {
          "name": "stdout",
          "output_type": "stream",
          "text": [
            "\n",
            "-----------------------------------\n",
            "Federal University of Technology - Paraná : <class 'str'>\n",
            "2018 : <class 'int'>\n",
            "True : <class 'bool'>\n",
            "-----------------------------------\n",
            "\n"
          ]
        }
      ],
      "source": [
        "# Como converter o valor de uma variável para um tipo específico?\n",
        "print(f'''\n",
        "-----------------------------------\n",
        "{config.get(section='education', option='school')} : {type(config.get(section='education', option='school'))}\n",
        "{config.getint('education', 'year')} : {type(config.getint('education', 'year'))}\n",
        "{config.getboolean('DEFAULT', 'secret_agent')} : {type(config.getboolean('DEFAULT', 'secret_agent'))}\n",
        "-----------------------------------\n",
        "''')"
      ]
    },
    {
      "cell_type": "code",
      "execution_count": 21,
      "metadata": {
        "colab": {
          "base_uri": "https://localhost:8080/"
        },
        "id": "dYjG7o7obwuz",
        "outputId": "2ce323d9-83ee-483d-dafb-888e144341fd"
      },
      "outputs": [
        {
          "data": {
            "text/plain": [
              "int"
            ]
          },
          "execution_count": 21,
          "metadata": {},
          "output_type": "execute_result"
        }
      ],
      "source": [
        "type(\n",
        "    config.getint('education', 'year')\n",
        ")"
      ]
    },
    {
      "cell_type": "code",
      "execution_count": 22,
      "metadata": {
        "colab": {
          "base_uri": "https://localhost:8080/"
        },
        "id": "1G_9Tr1Hb12H",
        "outputId": "54629f07-097f-43ea-8f33-291483b97ce0"
      },
      "outputs": [
        {
          "data": {
            "text/plain": [
              "bool"
            ]
          },
          "execution_count": 22,
          "metadata": {},
          "output_type": "execute_result"
        }
      ],
      "source": [
        "type(\n",
        "    config.getboolean('DEFAULT', 'secret_agent')\n",
        ")"
      ]
    },
    {
      "cell_type": "markdown",
      "metadata": {},
      "source": [
        "O método get também define um parâmetro `fallback` que é retornado se a opção desejada não existe na seção e nem foi definida em default."
      ]
    },
    {
      "cell_type": "code",
      "execution_count": 23,
      "metadata": {
        "colab": {
          "base_uri": "https://localhost:8080/",
          "height": 35
        },
        "id": "5b22RuHlio0a",
        "outputId": "8b07773e-3f3d-4559-c123-994d50e1532e"
      },
      "outputs": [
        {
          "data": {
            "text/plain": [
              "'Does not exist'"
            ]
          },
          "execution_count": 23,
          "metadata": {},
          "output_type": "execute_result"
        }
      ],
      "source": [
        "# É possível definir um valor fallback nos métodos get?\n",
        "assert not config.has_option(section='company', option='name')\n",
        "\n",
        "config.get(section='company', option='name', fallback='Does not exist')"
      ]
    },
    {
      "cell_type": "markdown",
      "metadata": {},
      "source": [
        "Também é possível retornar um dicionário com os parâmetros e respectivos valores presentes em uma seção. Note que todos os valores discriminados na seção default também são retornados. Isso pode ser bom ou uma falha de segurança, a depender do caso."
      ]
    },
    {
      "cell_type": "code",
      "execution_count": 24,
      "metadata": {
        "colab": {
          "base_uri": "https://localhost:8080/"
        },
        "id": "JWIyP4xCZzYP",
        "outputId": "5ce94d3e-8f03-4cd5-c11f-3a26da829f51"
      },
      "outputs": [
        {
          "data": {
            "text/plain": [
              "[('name', 'Giliard Godoi'),\n",
              " ('email', 'ggodoi@email.com'),\n",
              " ('local', 'Brasil'),\n",
              " ('secret_agent', 'True'),\n",
              " ('year', '2018'),\n",
              " ('school', 'Federal University of Technology - Paraná'),\n",
              " ('major', 'Software Development')]"
            ]
          },
          "execution_count": 24,
          "metadata": {},
          "output_type": "execute_result"
        }
      ],
      "source": [
        "# Como obter os itens (chave-valor) para uma seção?\n",
        "config.items('education')"
      ]
    },
    {
      "cell_type": "code",
      "execution_count": 25,
      "metadata": {
        "colab": {
          "base_uri": "https://localhost:8080/"
        },
        "id": "qGmfhD3AZ19u",
        "outputId": "0048ec08-250b-462a-f394-13d8233a2607"
      },
      "outputs": [
        {
          "data": {
            "text/plain": [
              "{'name': 'Giliard Godoi',\n",
              " 'email': 'ggodoi@email.com',\n",
              " 'local': 'Brasil',\n",
              " 'secret_agent': 'True',\n",
              " 'year': '2020'}"
            ]
          },
          "execution_count": 25,
          "metadata": {},
          "output_type": "execute_result"
        }
      ],
      "source": [
        "# Como obter os itens (chave-valor) para a seção default?\n",
        "config.defaults()"
      ]
    },
    {
      "cell_type": "markdown",
      "metadata": {
        "id": "uOsqVUiNlkIE"
      },
      "source": [
        "# Arquivos"
      ]
    },
    {
      "cell_type": "markdown",
      "metadata": {},
      "source": [
        "O arquivo de configuração definido no início dessa postagem pode ser salvo passando um ponteiro de arquivo para o método `write`."
      ]
    },
    {
      "cell_type": "code",
      "execution_count": 26,
      "metadata": {
        "id": "-2J4K8L8bLf2"
      },
      "outputs": [],
      "source": [
        "# Como salvar as configurações em um arquivo?\n",
        "with open('config.ini', 'w') as f:\n",
        "    config.write(f)"
      ]
    },
    {
      "cell_type": "markdown",
      "metadata": {},
      "source": [
        "Para ler novamente esse arquivo, podemos fazer a leitura desse arquivo através do método `read`."
      ]
    },
    {
      "cell_type": "code",
      "execution_count": 27,
      "metadata": {
        "colab": {
          "base_uri": "https://localhost:8080/"
        },
        "id": "8t3C9uM1cEMF",
        "outputId": "81943e81-49ba-4878-c700-352d850bb578"
      },
      "outputs": [
        {
          "data": {
            "text/plain": [
              "[]"
            ]
          },
          "execution_count": 27,
          "metadata": {},
          "output_type": "execute_result"
        }
      ],
      "source": [
        "# Como ler o arquivo config.ini?\n",
        "other = configparser.ConfigParser()\n",
        "other.sections() # o arquivo está vazio"
      ]
    },
    {
      "cell_type": "code",
      "execution_count": 28,
      "metadata": {
        "colab": {
          "base_uri": "https://localhost:8080/"
        },
        "id": "PEnG4T64cHTX",
        "outputId": "95df45f1-7268-489e-a476-04e087c0bf28"
      },
      "outputs": [
        {
          "data": {
            "text/plain": [
              "['config.ini']"
            ]
          },
          "execution_count": 28,
          "metadata": {},
          "output_type": "execute_result"
        }
      ],
      "source": [
        "other.read('config.ini')"
      ]
    },
    {
      "cell_type": "code",
      "execution_count": 29,
      "metadata": {
        "colab": {
          "base_uri": "https://localhost:8080/"
        },
        "id": "UPRrePcgcJzu",
        "outputId": "f9c21d4c-b442-4e7f-ee4b-4eac788e0d3f"
      },
      "outputs": [
        {
          "data": {
            "text/plain": [
              "['education', 'skills']"
            ]
          },
          "execution_count": 29,
          "metadata": {},
          "output_type": "execute_result"
        }
      ],
      "source": [
        "other.sections()"
      ]
    },
    {
      "cell_type": "markdown",
      "metadata": {
        "id": "GiELIVhgdXZ7"
      },
      "source": [
        "# Referências\n",
        "\n",
        "1. <https://docs.python.org/3/library/configparser.html>\n",
        "2. <https://en.wikipedia.org/wiki/INI_file>"
      ]
    }
  ],
  "metadata": {
    "colab": {
      "provenance": []
    },
    "kernelspec": {
      "display_name": "Python 3",
      "name": "python3"
    },
    "language_info": {
      "codemirror_mode": {
        "name": "ipython",
        "version": 3
      },
      "file_extension": ".py",
      "mimetype": "text/x-python",
      "name": "python",
      "nbconvert_exporter": "python",
      "pygments_lexer": "ipython3",
      "version": "3.11.7"
    }
  },
  "nbformat": 4,
  "nbformat_minor": 0
}
